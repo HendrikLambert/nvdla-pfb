{
 "cells": [
  {
   "cell_type": "code",
   "execution_count": 2,
   "id": "e590b654",
   "metadata": {},
   "outputs": [],
   "source": [
    "import torch.nn as nn\n",
    "import torch\n",
    "from onnx_helper import export_model"
   ]
  },
  {
   "cell_type": "code",
   "execution_count": 53,
   "id": "d144cbb0",
   "metadata": {},
   "outputs": [],
   "source": [
    "\n",
    "def c_weights(P, M):\n",
    "    from modules.fir_helper import ref_kaiser_weights\n",
    "    # Initialize FIR filter with predefined weights\n",
    "    weights = ref_kaiser_weights(P, M, reversed=False)\n",
    "    # Duplicate weights for complex channels, both channels have the same FIR filter\n",
    "    # so we can duplicate the weights for both real and imaginary parts.\n",
    "    # print(\"Original weights shape:\", weights.shape)\n",
    "    # print(weights)\n",
    "    weights = weights.reshape(P, 1, M, 1)  # Reshape to (P, 1, M, 1)\n",
    "    # print(\"Reshaped weights shape:\", weights.shape)\n",
    "    # print(weights)\n",
    "    weights = [weights[i // 2] for i in range(0, 2 * P)]\n",
    "    weights = torch.stack(weights, dim=0)\n",
    "    \n",
    "    # print(\"Weights shape:\", weights.shape)\n",
    "    # print(\"Weights:\", weights.squeeze())\n",
    "    \n",
    "    return weights\n",
    "\n",
    "# old:\n",
    "# weights = torch.zeros(P * 2, 1, 1, M)\n",
    "# new:\n",
    "# weights = torch.zeros(P * 2, 1, M, 1)\n",
    "# weights = torch.zeros(12, 1, 4, 1)\n",
    "\n",
    "# c_weights(6, 4)\n"
   ]
  },
  {
   "cell_type": "code",
   "execution_count": 55,
   "id": "46886362",
   "metadata": {},
   "outputs": [
    {
     "name": "stdout",
     "output_type": "stream",
     "text": [
      "torch.Size([1, 512, 16, 1])\n",
      "Output: tensor([0., 0., 0., 0., 0., 0., 0., 0., 0., 0., 0., 0., 0., 0., 0., 0., 0., 0., 0., 0., 0., 0., 0., 0.,\n",
      "        0., 0., 0., 0., 0., 0., 0., 0., 0., 0., 0., 0., 0., 0., 0., 0., 0., 0., 0., 0., 0., 0., 0., 0.,\n",
      "        0., 0., 0., 0., 0., 0., 0., 0., 0., 0., 0., 0., 0., 0., 0., 0., 0., 0., 0., 0., 0., 0., 0., 0.,\n",
      "        0., 0., 0., 0., 0., 0., 0., 0., 0., 0., 0., 0., 0., 0., 0., 0., 0., 0., 0., 0., 0., 0., 0., 0.,\n",
      "        0., 0., 0., 0., 0., 0., 0., 0., 0., 0., 0., 0., 0., 0., 0., 0., 0., 0., 0., 0., 0., 0., 0., 0.,\n",
      "        0., 0., 0., 0., 0., 0., 0., 0., 0., 0., 0., 0., 0., 0., 0., 0., 0., 0., 0., 0., 0., 0., 0., 0.,\n",
      "        0., 0., 0., 0., 0., 0., 0., 0., 0., 0., 0., 0., 0., 0., 0., 0., 0., 0., 0., 0., 0., 0., 0., 0.,\n",
      "        0., 0., 0., 0., 0., 0., 0., 0., 0., 0., 0., 0., 0., 0., 0., 0., 0., 0., 0., 0., 0., 0., 0., 0.,\n",
      "        0., 0., 0., 0., 0., 0., 0., 0., 0., 0., 0., 0., 0., 0., 0., 0., 0., 0., 0., 0., 0., 0., 0., 0.,\n",
      "        0., 0., 0., 0., 0., 0., 0., 0., 0., 0., 0., 0., 0., 0., 0., 0., 0., 0., 0., 0., 0., 0., 0., 0.,\n",
      "        0., 0., 0., 0., 0., 0., 0., 0., 0., 0., 0., 0., 0., 0., 0., 0., 0., 0., 0., 0., 0., 0., 0., 0.,\n",
      "        0., 0., 0., 0., 0., 0., 0., 0., 0., 0., 0., 0., 0., 0., 0., 0., 0., 0., 0., 0., 0., 0., 0., 0.,\n",
      "        0., 0., 0., 0., 0., 0., 0., 0., 0., 0., 0., 0., 0., 0., 0., 0., 0., 0., 0., 0., 0., 0., 0., 0.,\n",
      "        0., 0., 0., 0., 0., 0., 0., 0., 0., 0., 0., 0., 0., 0., 0., 0., 0., 0., 0., 0., 0., 0., 0., 0.,\n",
      "        0., 0., 0., 0., 0., 0., 0., 0., 0., 0., 0., 0., 0., 0., 0., 0., 0., 0., 0., 0., 0., 0., 0., 0.,\n",
      "        0., 0., 0., 0., 0., 0., 0., 0., 0., 0., 0., 0., 0., 0., 0., 0., 0., 0., 0., 0., 0., 0., 0., 0.,\n",
      "        0., 0., 0., 0., 0., 0., 0., 0., 0., 0., 0., 0., 0., 0., 0., 0., 0., 0., 0., 0., 0., 0., 0., 0.,\n",
      "        0., 0., 0., 0., 0., 0., 0., 0., 0., 0., 0., 0., 0., 0., 0., 0., 0., 0., 0., 0., 0., 0., 0., 0.,\n",
      "        0., 0., 0., 0., 0., 0., 0., 0., 0., 0., 0., 0., 0., 0., 0., 0., 0., 0., 0., 0., 0., 0., 0., 0.,\n",
      "        0., 0., 0., 0., 0., 0., 0., 0., 0., 0., 0., 0., 0., 0., 0., 0., 0., 0., 0., 0., 0., 0., 0., 0.,\n",
      "        0., 0., 0., 0., 0., 0., 0., 0., 0., 0., 0., 0., 0., 0., 0., 0., 0., 0., 0., 0., 0., 0., 0., 0.,\n",
      "        0., 0., 0., 0., 0., 0., 0., 0.])\n",
      "torch.Size([1, 512, 1, 1])\n"
     ]
    }
   ],
   "source": [
    "\n",
    "def export_fir():\n",
    "    from modules.fir_cnn_module import FIRCNNModule\n",
    "    B = 1\n",
    "    P = 256\n",
    "    M = 16\n",
    "    # weights = torch.zeros(P * 2, 1, M, 1)\n",
    "    weights = c_weights(P, M)\n",
    "    module = FIRCNNModule(P, M, weights)\n",
    "    example_inputs = torch.zeros(B, 2*P, M, 1)\n",
    "    # example_inputs[1][-1] = 2\n",
    "    out = module(example_inputs)\n",
    "    print(example_inputs.shape)\n",
    "    print(\"Output:\", out.squeeze())\n",
    "    print(out.shape)\n",
    "    \n",
    "\n",
    "    torch.onnx.export(\n",
    "        module,\n",
    "        example_inputs,\n",
    "        \"FIR.onnx\",\n",
    "        input_names=[\"input\"],\n",
    "        output_names=[\"output\"],\n",
    "        do_constant_folding=True,\n",
    "        # opset_version=15,\n",
    "    )\n",
    "\n",
    "export_fir()\n"
   ]
  },
  {
   "cell_type": "code",
   "execution_count": 17,
   "id": "24b0d320",
   "metadata": {},
   "outputs": [
    {
     "name": "stdout",
     "output_type": "stream",
     "text": [
      "Output: tensor([[0., 0., 0.,  ..., 0., 0., 0.],\n",
      "        [0., 0., 0.,  ..., 0., 0., 0.],\n",
      "        [0., 0., 0.,  ..., 0., 0., 0.],\n",
      "        [0., 0., 0.,  ..., 0., 0., 0.],\n",
      "        [0., 0., 0.,  ..., 0., 0., 0.]])\n"
     ]
    }
   ],
   "source": [
    "from modules.dft_cnn_module import DFTCNNModule\n",
    "\n",
    "def export_dft():\n",
    "    P = 256\n",
    "    module = DFTCNNModule(P)\n",
    "    example_inputs = torch.zeros(5, 2*P, 1, 1)\n",
    "    out = module(example_inputs)\n",
    "    print(\"Output:\", out.squeeze())\n",
    "\n",
    "\n",
    "    torch.onnx.export(\n",
    "        module,\n",
    "        example_inputs,\n",
    "        \"DFT.onnx\",\n",
    "        input_names=[\"input\"],\n",
    "        output_names=[\"output\"],\n",
    "        do_constant_folding=True,\n",
    "    )\n",
    "\n",
    "export_dft()\n"
   ]
  },
  {
   "cell_type": "code",
   "execution_count": 19,
   "id": "92b634f1",
   "metadata": {},
   "outputs": [
    {
     "name": "stdout",
     "output_type": "stream",
     "text": [
      "Output: tensor([[0., 0., 0., 0., 0., 0., 0., 0., 0., 0., 0., 0., 0., 0., 0., 0.],\n",
      "        [0., 0., 0., 0., 0., 0., 0., 0., 0., 0., 0., 0., 0., 0., 0., 0.],\n",
      "        [0., 0., 0., 0., 0., 0., 0., 0., 0., 0., 0., 0., 0., 0., 0., 0.],\n",
      "        [0., 0., 0., 0., 0., 0., 0., 0., 0., 0., 0., 0., 0., 0., 0., 0.],\n",
      "        [0., 0., 0., 0., 0., 0., 0., 0., 0., 0., 0., 0., 0., 0., 0., 0.]])\n"
     ]
    }
   ],
   "source": [
    "from modules.fft_cnn_module import FFTCNNModule\n",
    "\n",
    "def export_fft():\n",
    "    P = 8\n",
    "    module = FFTCNNModule(P)\n",
    "    example_inputs = torch.zeros(5, 2*P, 1, 1)\n",
    "    out = module(example_inputs)\n",
    "    print(\"Output:\", out.squeeze())\n",
    "\n",
    "\n",
    "    torch.onnx.export(\n",
    "        module,\n",
    "        example_inputs,\n",
    "        \"FFT.onnx\",\n",
    "        input_names=[\"input\"],\n",
    "        output_names=[\"output\"],\n",
    "        do_constant_folding=True,\n",
    "    )\n",
    "\n",
    "export_fft()\n"
   ]
  },
  {
   "cell_type": "code",
   "execution_count": 12,
   "id": "9e225e1f",
   "metadata": {},
   "outputs": [
    {
     "name": "stdout",
     "output_type": "stream",
     "text": [
      "Exporting test module...\n",
      "Output: tensor([2., 2., 2., 2., 2.])\n"
     ]
    }
   ],
   "source": [
    "def export_test_module():\n",
    "\n",
    "    class ExampleModule(nn.Module):\n",
    "        def __init__(self):\n",
    "            super().__init__()\n",
    "            self.fc = nn.Linear(4, 4)\n",
    "\n",
    "        def forward(self, x, y):\n",
    "            # input_channel_slices = list(torch.split(x, 1, dim=1))\n",
    "            x = torch.add(x, y)\n",
    "            return x\n",
    "\n",
    "    module = ExampleModule()\n",
    "    example_inputs = (torch.zeros(5, 1, 1, 1), torch.zeros(1, 1, 1))\n",
    "    example_inputs[1][-1] = 2\n",
    "    out = module(*example_inputs)\n",
    "    print(\"Output:\", out.squeeze())\n",
    "    \n",
    "\n",
    "    torch.onnx.export(\n",
    "        module,\n",
    "        example_inputs,\n",
    "        \"fc.onnx\",\n",
    "        input_names=[\"input\", \"input2\"],\n",
    "        output_names=[\"output\"],\n",
    "        do_constant_folding=True,\n",
    "        # opset_version=15,\n",
    "    )\n",
    "\n",
    "print(\"Exporting test module...\")\n",
    "export_test_module()"
   ]
  }
 ],
 "metadata": {
  "kernelspec": {
   "display_name": "Python 3",
   "language": "python",
   "name": "python3"
  },
  "language_info": {
   "codemirror_mode": {
    "name": "ipython",
    "version": 3
   },
   "file_extension": ".py",
   "mimetype": "text/x-python",
   "name": "python",
   "nbconvert_exporter": "python",
   "pygments_lexer": "ipython3",
   "version": "3.10.12"
  }
 },
 "nbformat": 4,
 "nbformat_minor": 5
}
